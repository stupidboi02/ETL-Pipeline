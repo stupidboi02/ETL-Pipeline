{
 "cells": [
  {
   "cell_type": "code",
   "execution_count": 1,
   "metadata": {},
   "outputs": [
    {
     "name": "stdout",
     "output_type": "stream",
     "text": [
      "c:\\project3\\spark\\data\n"
     ]
    }
   ],
   "source": [
    "from pyspark.sql import SparkSession\n",
    "from datetime import datetime\n",
    "import os\n",
    "\n",
    "runtime = datetime.now().strftime('%d%m%y')\n",
    "\n",
    "spark = SparkSession.builder.appName('transform').getOrCreate()\n",
    "\n",
    "path = os.path.abspath(path='./data')\n",
    "print(path)"
   ]
  },
  {
   "cell_type": "code",
   "execution_count": 2,
   "metadata": {},
   "outputs": [],
   "source": [
    "# df = spark.read.parquet('hdfs://namenode:9000/' + classification + '/' + runtime)\n",
    "df = spark.read.parquet(path+ '/' + 'game_phone' + '/' + runtime + '.parquet')\n",
    "listUrl = df.select('url').collect()\n",
    "listContent = df.select('content').collect()\n",
    "# df.printSchema()\n",
    "# df.take(5)"
   ]
  },
  {
   "cell_type": "code",
   "execution_count": null,
   "metadata": {},
   "outputs": [],
   "source": [
    "df.select('url').show(15, truncate = False)"
   ]
  },
  {
   "cell_type": "code",
   "execution_count": null,
   "metadata": {},
   "outputs": [],
   "source": [
    "listContent[10]"
   ]
  },
  {
   "cell_type": "code",
   "execution_count": 323,
   "metadata": {},
   "outputs": [
    {
     "name": "stdout",
     "output_type": "stream",
     "text": [
      "0 1 16 65 27 1\n"
     ]
    }
   ],
   "source": [
    "\n",
    "from bs4 import BeautifulSoup\n",
    "count0=0\n",
    "count1=0\n",
    "count2=0\n",
    "count3=0\n",
    "count4=0\n",
    "count5=0\n",
    "tmp1 = []\n",
    "tmp2 = []\n",
    "tmp3 = []\n",
    "tmp4 = []\n",
    "tmp5 = []\n",
    "t = []\n",
    "for x in range(110):\n",
    "    soup = BeautifulSoup(listContent[x].content,'html.parser')\n",
    "    tag_name = soup.find_all(class_ = 'ClM7O')\n",
    "    if len(tag_name) == 0:\n",
    "        count0 +=1\n",
    "    if len(tag_name) == 1:\n",
    "        count1 +=1\n",
    "        # t = x\n",
    "        tmp1.append(tag_name)\n",
    "    if len(tag_name) == 2:\n",
    "        count2 +=1\n",
    "        tmp2.append(tag_name)\n",
    "        t.append(x)\n",
    "    if len(tag_name) == 3:\n",
    "        count3 +=1\n",
    "        tmp3.append(tag_name)\n",
    "    if len(tag_name) == 4:\n",
    "        count4 +=1\n",
    "        tmp4.append(tag_name)\n",
    "    if len(tag_name) == 5:\n",
    "        count5 +=1\n",
    "        tmp5.append(tag_name)\n",
    "print(count0,count1,count2,count3,count4,count5)\n",
    "sum = count0+count1+count2+count3+count4+count5"
   ]
  },
  {
   "cell_type": "code",
   "execution_count": 325,
   "metadata": {},
   "outputs": [
    {
     "name": "stdout",
     "output_type": "stream",
     "text": [
      "[93, 94, 95, 96, 97, 98, 99, 100, 101, 102, 103, 104, 105, 106, 107, 108]\n"
     ]
    },
    {
     "data": {
      "text/plain": [
       "Row(url='https://play.google.com/store/apps/details?id=makeover.triple.match.story.beauty.style.tile.puzzle')"
      ]
     },
     "execution_count": 325,
     "metadata": {},
     "output_type": "execute_result"
    }
   ],
   "source": [
    "print(t)\n",
    "listUrl[93]"
   ]
  },
  {
   "cell_type": "code",
   "execution_count": 40,
   "metadata": {},
   "outputs": [
    {
     "data": {
      "text/plain": [
       "'Nov 15, 2024'"
      ]
     },
     "execution_count": 40,
     "metadata": {},
     "output_type": "execute_result"
    }
   ],
   "source": [
    "from bs4 import BeautifulSoup\n",
    "import re\n",
    "soup = BeautifulSoup(listContent[1].content,'html.parser')\n",
    "tag_name = soup.find_all(class_ = 'xg1aie')\n",
    "d = tag_name[0].text\n",
    "d"
   ]
  },
  {
   "cell_type": "code",
   "execution_count": null,
   "metadata": {},
   "outputs": [],
   "source": []
  }
 ],
 "metadata": {
  "kernelspec": {
   "display_name": "Python 3",
   "language": "python",
   "name": "python3"
  },
  "language_info": {
   "codemirror_mode": {
    "name": "ipython",
    "version": 3
   },
   "file_extension": ".py",
   "mimetype": "text/x-python",
   "name": "python",
   "nbconvert_exporter": "python",
   "pygments_lexer": "ipython3",
   "version": "3.12.6"
  }
 },
 "nbformat": 4,
 "nbformat_minor": 2
}
